{
 "cells": [
  {
   "cell_type": "code",
   "execution_count": 29,
   "metadata": {},
   "outputs": [],
   "source": [
    "import cv2\n",
    "from imutils.video import VideoStream\n",
    "import numpy as np\n",
    "import pickle\n",
    "import os\n",
    "import time\n",
    "import imutils\n",
    "import csv\n",
    "from datetime import date\n",
    "import datetime\n",
    "from time import gmtime,strftime"
   ]
  },
  {
   "cell_type": "code",
   "execution_count": 30,
   "metadata": {},
   "outputs": [],
   "source": [
    "#Loadind face detector\n",
    "detector = cv2.dnn.readNetFromCaffe('./face_detection_model/deploy.prototxt','./face_detection_model/res10_300x300_ssd_iter_140000.caffemodel')"
   ]
  },
  {
   "cell_type": "code",
   "execution_count": 31,
   "metadata": {},
   "outputs": [],
   "source": [
    "#image to 128d features converter\n",
    "embedder = cv2.dnn.readNetFromTorch('./openface_nn4.small2.v1.t7')"
   ]
  },
  {
   "cell_type": "code",
   "execution_count": 32,
   "metadata": {},
   "outputs": [],
   "source": [
    "#trained face recognition model\n",
    "recognizer = pickle.loads(open('./output/recognizer1.pickle','rb').read())\n",
    "label = pickle.loads(open('./output/le1.pickle','rb').read())"
   ]
  },
  {
   "cell_type": "code",
   "execution_count": 33,
   "metadata": {},
   "outputs": [],
   "source": [
    "def detect_and_predict(frame):\n",
    "    (h, w) = frame.shape[:2]\n",
    "    imageblob = cv2.dnn.blobFromImage(cv2.resize(frame,(300,300)),1.0,(300,300),(104.0,177.0,123.0),swapRB=False,crop=False)\n",
    "    detector.setInput(imageblob)\n",
    "    detections = detector.forward()\n",
    "    locs = []\n",
    "    for i in range(0,detections.shape[2]):\n",
    "        confidence = detections[0,0,i,2]\n",
    "        if confidence > 0.5:\n",
    "            box = detections[0,0,i,3:7]*np.array([w,h,w,h])\n",
    "            (startX,startY,endX,endY) = box.astype('int')\n",
    "            face = frame[startY:endY,startX,endX]\n",
    "            (fw,fh) = face.shape[:2]\n",
    "            if fw < 20 or fh <20:\n",
    "                continue\n",
    "            faceBlob = cv2.dnn.blobFromImage(face, 1.0 / 255,(96, 96), (0, 0, 0), swapRB=True, crop=False)\n",
    "            embedder.setInput(faceBlob)\n",
    "            vect = embedder.forward()\n",
    "            pred = recognizer.predict_proba(vect)[0]\n",
    "            j = np.argmax(pred)\n",
    "            prob = pred[j]\n",
    "            name = label.classes_[j]\n",
    "            locs.append((startX,startY,endX,endY))\n",
    "    return (locs,pred)\n",
    "            \n",
    "            \n",
    "    \n",
    "    "
   ]
  },
  {
   "cell_type": "code",
   "execution_count": 34,
   "metadata": {},
   "outputs": [],
   "source": [
    "now = datetime.datetime.now()\n",
    "month = now.strftime(\"%B\")\n",
    "day = now.strftime(\"%d\")\n",
    "filename = f'{day}-{month}-Attendance.csv'\n",
    "fields = ['Name','Time']\n",
    "with open(filename,'w+') as f:\n",
    "    writer = csv.writer(f)\n",
    "    writer.writerow(fields)\n",
    "def markattendance(name):\n",
    "    now = datetime.datetime.now()\n",
    "    cutime = now.strftime(\"%H:%M:%S\")\n",
    "    with open(filename,'r+') as f:\n",
    "        mydatalist = f.readlines()\n",
    "        namelist=[]\n",
    "        for line in mydatalist:\n",
    "            entry = line.split(',')\n",
    "            namelist.append(entry[0])\n",
    "        if name not in namelist:\n",
    "            if name != 'unknown':\n",
    "                f.writelines(f'\\n{name},{cutime}')\n",
    "            \n",
    "    "
   ]
  },
  {
   "cell_type": "code",
   "execution_count": 35,
   "metadata": {},
   "outputs": [],
   "source": [
    "#vs = cv2.VideoCapture('./naveen.mp4')\n",
    "vs = VideoStream(0,resolution=400).start()#webcam uncomment this\n",
    "time.sleep(2.0)\n",
    "while True:\n",
    "    #ret,frame = vs.read()\n",
    "    frame = vs.read()\n",
    "   # if ret == False:\n",
    "    #    break\n",
    "    frame = imutils.resize(frame,width = 600)\n",
    "    (h, w) = frame.shape[:2]\n",
    "    imageblob = cv2.dnn.blobFromImage(cv2.resize(frame,(300,300)),1.0,(300,300),(104.0,177.0,123.0),swapRB=False,crop=False)\n",
    "    detector.setInput(imageblob)\n",
    "    detections = detector.forward()\n",
    "    for i in range(0,detections.shape[2]):\n",
    "        confidence = detections[0,0,i,2]\n",
    "        if confidence > 0.5:\n",
    "            box = detections[0,0,i,3:7]*np.array([w,h,w,h])\n",
    "            (startX,startY,endX,endY) = box.astype('int')\n",
    "            face = frame[startY:endY,startX:endX]\n",
    "            (fw,fh) = face.shape[:2]\n",
    "            if fw < 20 or fh <20:\n",
    "                continue\n",
    "            faceBlob = cv2.dnn.blobFromImage(face, 1.0 / 255,(96, 96), (0, 0, 0), swapRB=True, crop=False)\n",
    "            embedder.setInput(faceBlob)\n",
    "            vect = embedder.forward()\n",
    "            pred = recognizer.predict_proba(vect)[0]\n",
    "            j = np.argmax(pred)\n",
    "            prob = pred[j]\n",
    "            name = label.classes_[j]\n",
    "            prob = prob*100\n",
    "            color = (0,255,0) if name == 'naveen' else (0,0,255) \n",
    "            text = \"{}: {:.2f}%\".format(name,prob)\n",
    "            cv2.putText(frame, text, (startX, startY - 10),cv2.FONT_HERSHEY_SIMPLEX, 0.45, color, 2)\n",
    "            cv2.rectangle(frame, (startX, startY), (endX, endY), color, 2)\n",
    "            markattendance(name)    \n",
    "    cv2.imshow(\"Face Recog\",frame)\n",
    "    if cv2.waitKey(1) == 27:#press esc to exit\n",
    "            break\n",
    "cv2.destroyAllWindows()\n",
    "vs.stop() #if webcam uncomment this\n",
    "#vs.release()\n",
    "\n",
    "    "
   ]
  },
  {
   "cell_type": "code",
   "execution_count": null,
   "metadata": {},
   "outputs": [],
   "source": []
  },
  {
   "cell_type": "code",
   "execution_count": null,
   "metadata": {},
   "outputs": [],
   "source": []
  }
 ],
 "metadata": {
  "kernelspec": {
   "display_name": "Python 3",
   "language": "python",
   "name": "python3"
  },
  "language_info": {
   "codemirror_mode": {
    "name": "ipython",
    "version": 3
   },
   "file_extension": ".py",
   "mimetype": "text/x-python",
   "name": "python",
   "nbconvert_exporter": "python",
   "pygments_lexer": "ipython3",
   "version": "3.7.9-final"
  }
 },
 "nbformat": 4,
 "nbformat_minor": 4
}