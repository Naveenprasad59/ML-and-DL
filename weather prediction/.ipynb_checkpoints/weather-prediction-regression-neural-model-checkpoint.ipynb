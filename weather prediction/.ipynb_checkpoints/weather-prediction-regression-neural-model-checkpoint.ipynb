{
 "cells": [
  {
   "cell_type": "markdown",
   "metadata": {
    "_uuid": "2fbff8a456f78421e8875e08e5f022184fd95424"
   },
   "source": [
    "> In order to build our forecasting model, we will have to opt for using CRISP-DM methodology."
   ]
  },
  {
   "cell_type": "markdown",
   "metadata": {
    "_uuid": "16c9744a1d5997d407c5ff182fa1607997b59d6e"
   },
   "source": [
    "**1. Business understanding**"
   ]
  },
  {
   "cell_type": "markdown",
   "metadata": {
    "_uuid": "89d2739687e6151953bb4e88a3a3bd6021ba9ae2"
   },
   "source": [
    "This first step is essentially about understanding the business, the need for the specific project and the resources that we have. "
   ]
  },
  {
   "cell_type": "markdown",
   "metadata": {
    "_uuid": "dea8b62ffb699648adb7c68394c5e54534444ed3"
   },
   "source": [
    "1.1 **Gather background information**\n",
    "\n",
    " *Compiling the business background *\n",
    "\n",
    "this project is about historical weather around Szeged, Hungary , from 2006 to 2016\n",
    "\n",
    "**Defining business objectives**\n",
    "\n",
    "Make data more accessible and understandable for everyone.\n",
    "\n",
    "Provide fast analytics for the different Factors Affecting Weather .\n",
    "\n",
    "use different prediction and classification algorithms\n",
    "\n",
    "calculating and comparing evaluation measures\n",
    "\n"
   ]
  },
  {
   "cell_type": "markdown",
   "metadata": {
    "_uuid": "076ca1160d13477a63950a132730cbd94410b918"
   },
   "source": [
    "**1.2 Assessing the situation**\n",
    "\n",
    "** Resource Inventory **\n",
    "\n",
    "Data : dataset contains in a practical format 10 years (2006-2016) of hourly data in just a single file.\n",
    "\n",
    "Computing resources : hp , i3 processor, 4 GB RAM\n",
    "\n",
    "Programming languages and libraries : python ( Numpy, pandas, matplotlib, seaborn, tensorflow, scikitlearn)"
   ]
  },
  {
   "cell_type": "markdown",
   "metadata": {
    "_uuid": "7899795183bc32ed1c71e53623bfd70f90b32c06"
   },
   "source": [
    "**1.3 Objective of the project**\n",
    "\n",
    " the objective of this project is to analyze the weather data and extract the hypotheses to arrive at a prediction"
   ]
  },
  {
   "cell_type": "markdown",
   "metadata": {
    "_uuid": "875855d88e7236c31146ef9da08c7fc53d35a02e"
   },
   "source": [
    "**2.Collect initial data**\n",
    "\n",
    "Dataset from Kaggle : https://www.kaggle.com/budincsevity/szeged-weather"
   ]
  },
  {
   "cell_type": "markdown",
   "metadata": {
    "_uuid": "1cf619c13d7c27fdb4254a3b06c2cf8e37fbc808"
   },
   "source": [
    "**2.1 Data Exploration**\n",
    "\n",
    "Exploration is to understand how all these columns are related and the value structures so the correlation between these data"
   ]
  },
  {
   "cell_type": "markdown",
   "metadata": {
    "_uuid": "0c2c7ecf0041363b962777130b709205c14447e5"
   },
   "source": [
    "**importing libraries **"
   ]
  },
  {
   "cell_type": "code",
   "execution_count": null,
   "metadata": {
    "_cell_guid": "79c7e3d0-c299-4dcb-8224-4455121ee9b0",
    "_kg_hide-input": false,
    "_uuid": "d629ff2d2480ee46fbb7e2d37f6b5fab8052498a"
   },
   "outputs": [],
   "source": [
    "#Data manipulation libraries : \n",
    "import numpy as np  #numpy\n",
    "import pandas as pd  #pandas\n",
    "import tensorflow as tf\n",
    "#System libraries\n",
    "import glob #The glob module finds all the pathnames matching a specified pattern according to the rules used by the Unix shell\n",
    "\n",
    "#Map plotting \n",
    "import folium #Interactive Maps viz\n",
    "\n",
    "\n",
    "\n",
    "#Plotting\n",
    "import seaborn as sns\n",
    "import matplotlib.pyplot as plt\n",
    "import matplotlib.dates as mdates\n",
    "\n",
    "#math operations lib \n",
    "import math\n",
    "from math import pi\n",
    "\n",
    "#date manipulation \n",
    "import datetime as dt\n",
    "\n",
    "#Missing data detector lib\n",
    "import missingno as mn\n",
    "\n",
    "#Impute missing data\n",
    "from sklearn.preprocessing import Imputer \n",
    "\n",
    "#Deep learning with keras\n",
    "from keras import backend as K\n",
    "import keras\n",
    "from keras.models import Sequential\n",
    "from keras.layers import Dense, Dropout\n",
    "\n",
    "#Splitting data to test and train \n",
    "from sklearn.model_selection import train_test_split\n",
    "\n",
    "import datetime\n",
    "from sklearn.model_selection import train_test_split\n",
    "from sklearn.metrics import accuracy_score\n",
    "from sklearn.tree import DecisionTreeClassifier\n",
    "from sklearn.linear_model import LogisticRegression\n",
    "from tensorflow import keras\n",
    "%matplotlib inline\n",
    "plt.style.use('seaborn-whitegrid')\n",
    "\n",
    "from mpl_toolkits.mplot3d import Axes3D\n",
    "from sklearn.preprocessing import StandardScaler\n",
    "from collections import Counter\n",
    "import time\n",
    "import datetime as dt\n",
    "from datetime import datetime\n",
    "import collections\n",
    "import os # accessing directory structure\n",
    "import pandas as pd # data processing, CSV file I/O (e.g. pd.read_csv)\n",
    "import seaborn as sns\n",
    "from matplotlib.pyplot import rcParams\n",
    "\n",
    "from sklearn import linear_model"
   ]
  },
  {
   "cell_type": "markdown",
   "metadata": {
    "_uuid": "8ffc66bbf92860536603ae8ed9dc7e03fd60aabc"
   },
   "source": [
    "**Check out the data**"
   ]
  },
  {
   "cell_type": "code",
   "execution_count": null,
   "metadata": {
    "_kg_hide-output": true,
    "_uuid": "270d9ac1bd2a9fabe9a4ea82fab25e055db21711"
   },
   "outputs": [],
   "source": [
    "data = pd.read_csv('../input/weatherHistory.csv')\n",
    "data.head() "
   ]
  },
  {
   "cell_type": "code",
   "execution_count": null,
   "metadata": {
    "_uuid": "793b7b0167ad6b4895a6878567ac9744bb0d85a2"
   },
   "outputs": [],
   "source": [
    "# check datatypes\n",
    "data.dtypes"
   ]
  },
  {
   "cell_type": "code",
   "execution_count": null,
   "metadata": {
    "_uuid": "a4ea4ab94e1ab28ab9a855a7944cd432db271f07"
   },
   "outputs": [],
   "source": [
    "#Categorical variables:\n",
    "categorical = data.select_dtypes(include = [\"object\"]).keys()\n",
    "print(categorical)"
   ]
  },
  {
   "cell_type": "code",
   "execution_count": null,
   "metadata": {
    "_uuid": "ba7e433235213296f746518101b4cb6d37964f57"
   },
   "outputs": [],
   "source": [
    "#Quantitative variables:\n",
    "quantitative = data.select_dtypes(include = [\"int64\",\"float64\"]).keys()\n",
    "print(quantitative)"
   ]
  },
  {
   "cell_type": "code",
   "execution_count": null,
   "metadata": {
    "_uuid": "be3b6d1958ed61b3fc35b2d776edcdff0ba4df0d"
   },
   "outputs": [],
   "source": [
    "#'Formatted Date' transformation:\n",
    "\n",
    "data['Date'] = pd.to_datetime(data['Formatted Date'])\n",
    "data['year'] = data['Date'].dt.year\n",
    "data['month'] = data['Date'].dt.month\n",
    "data['day'] = data['Date'].dt.day\n",
    "data['hour'] = data['Date'].dt.hour\n",
    "data.head()"
   ]
  },
  {
   "cell_type": "code",
   "execution_count": null,
   "metadata": {
    "_uuid": "8c4fe884899935cfb9fdb81e519558cb06b22149"
   },
   "outputs": [],
   "source": [
    "f,ax = plt.subplots(figsize=(18, 18))\n",
    "sns.heatmap(data.corr(), annot=True, linewidths=.5, fmt= '.1f',ax=ax)\n",
    "plt.show()"
   ]
  },
  {
   "cell_type": "markdown",
   "metadata": {
    "_uuid": "7e99c37ebcd426ec288e0eb2d8e4890e459037cc"
   },
   "source": [
    "**Quantitative variables. Missing values**"
   ]
  },
  {
   "cell_type": "code",
   "execution_count": null,
   "metadata": {
    "_uuid": "11fda34d25f2fcc14e3bb1d0a74e655543c424cc"
   },
   "outputs": [],
   "source": [
    "data[quantitative].describe()"
   ]
  },
  {
   "cell_type": "code",
   "execution_count": null,
   "metadata": {
    "_uuid": "6970720004f6a0886965c1c54d461db72ea20e8e"
   },
   "outputs": [],
   "source": [
    "rcParams['figure.figsize'] = 9, 9\n",
    "data[quantitative].hist()"
   ]
  },
  {
   "cell_type": "markdown",
   "metadata": {
    "_uuid": "17ca0c4ba4a18c59cb123fb8ea73a3048a6cb1c7"
   },
   "source": [
    "'Loud Cover' takes values zero. We drop it"
   ]
  },
  {
   "cell_type": "code",
   "execution_count": null,
   "metadata": {
    "_uuid": "69a9f1ee38df46f348398583b7964d8e7e0011da"
   },
   "outputs": [],
   "source": [
    "data=data.drop('Loud Cover',axis=1)"
   ]
  },
  {
   "cell_type": "markdown",
   "metadata": {
    "_uuid": "5adc66e6ffacd197c9968aebfb5b9e6e8ad9a67e"
   },
   "source": [
    "\"Pressure (millibars)\".\n",
    "\n",
    "Some observations are nil. It seems that they lack values. because the pressure does not take zero as value \n",
    "\n",
    "Let's fill the zeros with the median:"
   ]
  },
  {
   "cell_type": "code",
   "execution_count": null,
   "metadata": {
    "_uuid": "e7277775050570d67a690a358f3ad001e6d39287"
   },
   "outputs": [],
   "source": [
    "pressure_median = data['Pressure (millibars)'].median()\n",
    "      \n",
    "def pressure(x):\n",
    "    if x==0:\n",
    "        return x + pressure_median\n",
    "    else:\n",
    "        return x\n",
    "        \n",
    "data[\"Pressure (millibars)\"] = data.apply(lambda row:pressure(row[\"Pressure (millibars)\"]) , axis = 1)\n",
    "\n",
    "rcParams['figure.figsize'] = 5, 3\n",
    "data['Pressure (millibars)'].hist()\n"
   ]
  },
  {
   "cell_type": "markdown",
   "metadata": {
    "_uuid": "a2f2135a2741f42459e886118d06f273a9a6e3a7"
   },
   "source": [
    "** Categorical variables**"
   ]
  },
  {
   "cell_type": "code",
   "execution_count": null,
   "metadata": {
    "_uuid": "83c9bf1fb751476ef6e9b6c41ff8cff07e2aa502"
   },
   "outputs": [],
   "source": [
    "rcParams['figure.figsize'] = 8, 5\n",
    "sns.countplot(y=data['Summary'])"
   ]
  },
  {
   "cell_type": "code",
   "execution_count": null,
   "metadata": {
    "_uuid": "5c5bdbdd90413693842b7040d22ed1b551cb235a"
   },
   "outputs": [],
   "source": [
    "data['Daily Summary'].value_counts(dropna=False)"
   ]
  },
  {
   "cell_type": "code",
   "execution_count": null,
   "metadata": {
    "_uuid": "789ad2f4384ba317fcce7b0824988425aa589e40",
    "scrolled": true
   },
   "outputs": [],
   "source": [
    "data['Summary'].value_counts(dropna=False)"
   ]
  },
  {
   "cell_type": "code",
   "execution_count": null,
   "metadata": {
    "_uuid": "6b198ffa7f17bf33b5b1e8512a033a7062e73717"
   },
   "outputs": [],
   "source": [
    "data['Precip Type'].value_counts(dropna=False)"
   ]
  },
  {
   "cell_type": "code",
   "execution_count": null,
   "metadata": {
    "_uuid": "7878bb96e0619932b012a3378cf7a8e2469465ed"
   },
   "outputs": [],
   "source": [
    "data.fillna(method='ffill', inplace=True)"
   ]
  },
  {
   "cell_type": "code",
   "execution_count": null,
   "metadata": {
    "_uuid": "1dbe88b3edf452f7ff5d0b69f5a3f478f5dc493e"
   },
   "outputs": [],
   "source": [
    "sns.countplot(x=data['Precip Type'])"
   ]
  },
  {
   "cell_type": "code",
   "execution_count": null,
   "metadata": {
    "_uuid": "9993ab6fb27ccee9e4e5c6416c30b6100d209582"
   },
   "outputs": [],
   "source": [
    "\n",
    "# Calculate total number of cells in dataframe\n",
    "totalCells = np.product(data.shape)\n",
    "\n",
    "# Count number of missing values per column\n",
    "missingCount = data.isnull().sum()\n",
    "\n",
    "# Calculate total number of missing values\n",
    "totalMissing = missingCount.sum()\n",
    "\n",
    "# Calculate percentage of missing values\n",
    "print(\"The weather history dataset contains\", round(((totalMissing/totalCells) * 100), 2), \"%\", \"missing values.\")"
   ]
  },
  {
   "cell_type": "code",
   "execution_count": null,
   "metadata": {
    "_uuid": "d4e4a3c8e59a25703e1bc8060ad2e07a79dda55d"
   },
   "outputs": [],
   "source": [
    "plt.figure(figsize=(18,8)) # this creates a figure 8 inch wide, 4 inch high\n",
    "sns.pairplot(data[['Apparent Temperature (C)','Temperature (C)', 'Humidity' ]])\n",
    "plt.show()"
   ]
  },
  {
   "cell_type": "code",
   "execution_count": null,
   "metadata": {
    "_uuid": "f25adab72e13bdc0f13fadacdb67227964139d55"
   },
   "outputs": [],
   "source": [
    "plt.figure(figsize=(18,8)) # this creates a figure 8 inch wide, 4 inch high\n",
    "sns.pairplot(data[['Wind Speed (km/h)', 'Wind Bearing (degrees)', 'Visibility (km)', 'Pressure (millibars)']])\n",
    "plt.show()"
   ]
  },
  {
   "cell_type": "code",
   "execution_count": null,
   "metadata": {
    "_uuid": "4b92b84431369d1b99ce9fcd78644cf5c9646f0d"
   },
   "outputs": [],
   "source": [
    "sns.violinplot(x=\"Precip Type\", y=\"Temperature (C)\", data=data, palette=\"YlGnBu\");"
   ]
  },
  {
   "cell_type": "code",
   "execution_count": null,
   "metadata": {
    "_uuid": "bde1354648e61ba83194ed91afdeae2c26e09aa3"
   },
   "outputs": [],
   "source": [
    "sns.violinplot(x=\"Precip Type\", y=\"Humidity\", data=data, palette=\"YlGnBu\");"
   ]
  },
  {
   "cell_type": "markdown",
   "metadata": {
    "_uuid": "5ea848bdd91eccc59099bef0a1e8a509841a16f4"
   },
   "source": [
    "With these plots we can choose two variables to study the relationship betweem them.\n",
    "\n",
    "In this study let's focus to explore Temperature as a function of Humidity : how humidity influences in temperature?."
   ]
  },
  {
   "cell_type": "markdown",
   "metadata": {
    "_uuid": "f63a253b25983311a577ccaa2a73a75b72e088ab"
   },
   "source": [
    "***Linear Regression***"
   ]
  },
  {
   "cell_type": "code",
   "execution_count": null,
   "metadata": {
    "_uuid": "dcf49a6770385784aac0f0b37613e4745d9cb61a"
   },
   "outputs": [],
   "source": [
    "from sklearn import linear_model\n",
    "from sklearn.model_selection import train_test_split\n",
    "from sklearn.metrics import mean_squared_error, r2_score\n",
    "\n",
    "ls = linear_model.LinearRegression()\n",
    "\n",
    "\n",
    "\n",
    "X = data[\"Humidity\"].values.reshape(-1,1)\n",
    "y = data[\"Temperature (C)\"].values.reshape(-1,1)\n",
    "\n",
    "X_train, X_test, y_train, y_test = train_test_split(X, \n",
    "                                                    y, \n",
    "                                                    test_size=0.33, \n",
    "                                                    shuffle=True, random_state=0)\n",
    "print(\"Linear Regression\")\n",
    "ls.fit(X_train, y_train)\n",
    "print(\"alpha = \",ls.coef_[0])\n",
    "print(\"beta = \",ls.intercept_)\n",
    "print(\"\\n\\nCalculating some regression quality metrics\")\n",
    "y_pred = ls.predict(X_test)\n",
    "print(\"MSE = \",mean_squared_error(y_test, y_pred))\n",
    "print(\"R2 = \",r2_score(y_test, y_pred))"
   ]
  },
  {
   "cell_type": "markdown",
   "metadata": {
    "_uuid": "375192c172cf4dded274c7578dd1a7370834996a"
   },
   "source": [
    "**Decision Tree Classifier**"
   ]
  },
  {
   "cell_type": "markdown",
   "metadata": {
    "_uuid": "b10022ef69a1992b4000f48ffc06ce1ed6a288f9"
   },
   "source": [
    "first of all i'm going to change the categorical variables to numeric"
   ]
  },
  {
   "cell_type": "code",
   "execution_count": null,
   "metadata": {
    "_uuid": "1777864413fbae371d76a7f9d2085d14efb70165"
   },
   "outputs": [],
   "source": [
    "def change_category_to_number(DailySummaryCat):\n",
    "    if DailySummaryCat=='Partly cloudy throughout the day.':\n",
    "        return 1\n",
    "    elif DailySummaryCat=='Mostly cloudy throughout the day.':\n",
    "        return 2\n",
    "    elif DailySummaryCat=='Foggy in the evening.':\n",
    "        return 3\n",
    "    elif DailySummaryCat=='Foggy overnight and breezy in the morning.':\n",
    "        return 4\n",
    "    elif DailySummaryCat=='Overcast throughout the day.':\n",
    "        return 5\n",
    "    elif DailySummaryCat=='Partly cloudy until night.':\n",
    "        return 6\n",
    "    elif DailySummaryCat=='Motly cloudy until night.':\n",
    "        return 7\n",
    "    elif DailySummaryCat=='Foggy starting overnight continuing until morning.':\n",
    "        return 8\n",
    "    elif DailySummaryCat=='Foggy in the morning.':\n",
    "        return 9\n",
    "    elif DailySummaryCat=='Partly cloudy until evening.':\n",
    "        return 10\n",
    "    elif DailySummaryCat=='Partly cloudy starting in the morning.':\n",
    "        return 11\n",
    "    elif DailySummaryCat=='Mostly cloudy starting overnight continuing until night.':\n",
    "        return 12\n",
    "    elif DailySummaryCat=='Partly cloudy starting in the afternoon.':\n",
    "        return 13\n",
    "    elif DailySummaryCat=='Partly cloudy starting overnight.':\n",
    "        return 14\n",
    "    elif DailySummaryCat=='Mostly cloudy starting overnight.':\n",
    "        return 15\n",
    "    elif DailySummaryCat=='Mostly cloudy until night and breezy in the afternoon.':\n",
    "        return 16\n",
    "    elif DailySummaryCat=='Mostly cloudy until evening.':\n",
    "        return 17\n",
    "    elif DailySummaryCat=='Foggy throughout the day.':\n",
    "        return 18\n",
    "    elif DailySummaryCat=='Partly cloudy starting in the morning.':\n",
    "        return 19\n",
    "    elif DailySummaryCat=='Partly cloudy starting in the morning continuing until evening.':\n",
    "        return 20\n",
    "    elif DailySummaryCat=='Foggy until morning.':\n",
    "        return 21\n",
    "    elif DailySummaryCat=='Partly cloudy starting in the morning continuing until night.':\n",
    "        return 22\n",
    "    elif DailySummaryCat=='Mostly cloudy starting in the morning.':\n",
    "        return 23\n",
    "    elif DailySummaryCat=='Foggy starting in the evening.':\n",
    "        return 24\n",
    "    elif DailySummaryCat=='Partly cloudy starting in the afternoon continuing until evening.':\n",
    "        return 25\n",
    "    elif DailySummaryCat=='Foggy overnight.':\n",
    "        return 26\n",
    "    elif DailySummaryCat=='Clear throughout the day.':\n",
    "        return 27\n",
    "    elif DailySummaryCat=='Partly cloudy starting overnight continuing until night.':\n",
    "        return 28\n",
    "    elif DailySummaryCat=='Partly cloudy overnight.':\n",
    "        return 29\n",
    "    elif DailySummaryCat=='Partly cloudy starting overnight continuing until evening.':\n",
    "        return 30\n",
    "    elif DailySummaryCat=='Foggy until night.':\n",
    "        return 31\n",
    "    elif DailySummaryCat=='Partly cloudy in the morning.':\n",
    "        return 32\n",
    "    elif DailySummaryCat=='Foggy starting overnight continuing until afternoon.':\n",
    "        return 33\n",
    "    elif DailySummaryCat=='Foggy until afternoon.':\n",
    "        return 34\n",
    "    elif DailySummaryCat=='Breezy and mostly cloudy overnight.':\n",
    "        return 35\n",
    "    elif DailySummaryCat=='Partly cloudy overnight and breezy starting in the morning continuing until afternoon.':\n",
    "        return 36\n",
    "    elif DailySummaryCat=='Breezy in the morning and foggy in the evening.':\n",
    "        return 37\n",
    "    elif DailySummaryCat=='Mostly cloudy until evening and breezy in the evening.':\n",
    "        return 38\n",
    "    elif DailySummaryCat=='Mostly cloudy starting in the evening.':\n",
    "        return 39\n",
    "    elif DailySummaryCat=='Mostly cloudy throughout the day and breezy starting overnight continuing until afternoon.':\n",
    "        return 40\n",
    "    elif DailySummaryCat=='Breezy starting in the morning continuing until night.':\n",
    "        return 41\n",
    "    elif DailySummaryCat=='Overcast throughout the day and breezy starting overnight continuing until morning.':\n",
    "        return 42\n",
    "    elif DailySummaryCat=='Breezy starting overnight continuing until morning and foggy in the evening.':\n",
    "        return 43\n",
    "    elif DailySummaryCat=='Light rain until morning.':\n",
    "        return 44\n",
    "    elif DailySummaryCat=='Mostly cloudy until night and breezy starting in the afternoon continuing until night.':\n",
    "        return 45\n",
    "    elif DailySummaryCat=='Mostly cloudy starting in the morning continuing until afternoon.':\n",
    "        return 46\n",
    "    elif DailySummaryCat=='Breezy until afternoon and overcast throughout the day.':\n",
    "        return 47\n",
    "    elif DailySummaryCat=='Partly cloudy until evening and breezy in the afternoon.':\n",
    "        return 48\n",
    "    elif DailySummaryCat=='Breezy starting overnight continuing until morning and partly cloudy starting overnight continuing until evening.':\n",
    "        return 49\n",
    "    elif DailySummaryCat=='Light rain starting overnight.':\n",
    "        return 50\n",
    "    elif DailySummaryCat=='Partly cloudy starting overnight continuing until evening and breezy starting in the morning continuing until evening.':\n",
    "        return 51\n",
    "    elif DailySummaryCat=='Foggy starting in the morning continuing until evening and breezy in the evening.':\n",
    "        return 52\n",
    "    elif DailySummaryCat=='Partly cloudy throughout the day and breezy in the afternoon.':\n",
    "        return 53\n",
    "    elif DailySummaryCat=='Mostly cloudy starting overnight continuing until evening and breezy starting overnight continuing until morning.':\n",
    "        return 54\n",
    "    elif DailySummaryCat=='Partly cloudy starting overnight continuing until evening and breezy in the morning.':\n",
    "        return 55\n",
    "    elif DailySummaryCat=='Overcast throughout the day and breezy overnight.':\n",
    "        return 56\n",
    "    elif DailySummaryCat=='Light rain in the morning.':\n",
    "        return 57\n",
    "    elif DailySummaryCat=='Rain until morning.':\n",
    "        return 58\n",
    "    elif DailySummaryCat=='Breezy in the morning and mostly cloudy starting in the evening.':\n",
    "        return 59\n",
    "    elif DailySummaryCat=='Mostly cloudy starting in the morning and breezy overnight.':\n",
    "        return 60\n",
    "    elif DailySummaryCat=='Partly cloudy starting overnight and breezy starting in the morning continuing until afternoon.':\n",
    "        return 61\n",
    "    elif DailySummaryCat=='Partly cloudy starting in the morning and breezy starting in the afternoon continuing until evening.':\n",
    "        return 62\n",
    "    elif DailySummaryCat=='Partly cloudy starting in the morning continuing until evening and breezy in the afternoon.':\n",
    "        return 63\n",
    "    elif DailySummaryCat=='Foggy starting overnight continuing until morning and breezy in the afternoon.':\n",
    "        return 64"
   ]
  },
  {
   "cell_type": "code",
   "execution_count": null,
   "metadata": {
    "_uuid": "3571b4dd0ff140af032f4bc9584d0479e3b2d892"
   },
   "outputs": [],
   "source": [
    "# assign a numerical value to the categorical field of class, by using the above function\n",
    "data['DailySummaryCat'] = data['Daily Summary'].apply(change_category_to_number)"
   ]
  },
  {
   "cell_type": "code",
   "execution_count": null,
   "metadata": {
    "_uuid": "a13af79a3202518da6abd5bd045780571c0db417"
   },
   "outputs": [],
   "source": [
    "data.fillna(method='ffill', inplace=True) "
   ]
  },
  {
   "cell_type": "code",
   "execution_count": null,
   "metadata": {
    "_uuid": "adc42520c0621479d5b75234d8ce50dc428a8abb"
   },
   "outputs": [],
   "source": [
    "plt.figure(figsize=(18,8)) # this creates a figure 8 inch wide, 4 inch high\n",
    "ax = sns.countplot(x=data['DailySummaryCat'])\n",
    "ax.set_xticklabels(ax.get_xticklabels(), rotation=90, ha=\"right\")\n",
    "plt.tight_layout()\n",
    "plt.show()"
   ]
  },
  {
   "cell_type": "code",
   "execution_count": null,
   "metadata": {
    "_uuid": "229518334563600909c0c525d677ea80182f09fe"
   },
   "outputs": [],
   "source": [
    "def change_category(Summary):\n",
    "    if Summary=='Partly Cloudy':\n",
    "        return 1\n",
    "    elif Summary=='Mostly Cloudy':\n",
    "        return 2\n",
    "    elif Summary=='Foggy':\n",
    "        return 3\n",
    "    elif Summary=='Clear':\n",
    "        return 4\n",
    "    elif Summary=='Overcast':\n",
    "        return 5\n",
    "    elif Summary=='Breezy and Overcast':\n",
    "        return 6\n",
    "    elif Summary=='Breezy and Partly Cloudy':\n",
    "        return 7\n",
    "    elif Summary=='Breezy and Mostly Cloudy':\n",
    "        return 8\n",
    "    elif Summary=='Dry and Partly Cloudy':\n",
    "        return 9\n",
    "    elif Summary=='Windy and Partly Cloudy':\n",
    "        return 10\n",
    "    elif Summary=='Light Rain':\n",
    "        return 11\n",
    "    elif Summary=='Breezy':\n",
    "        return 12\n",
    "    elif Summary=='Windy and Overcast':\n",
    "        return 13\n",
    "    elif Summary=='Humid and Mostly Cloudy':\n",
    "        return 14\n",
    "    elif Summary=='Drizzle':\n",
    "        return 15\n",
    "    elif Summary=='Windy and Mostly Cloudy':\n",
    "        return 16\n",
    "    elif Summary=='Breezy and Foggy':\n",
    "        return 17\n",
    "    elif Summary=='Dry':\n",
    "        return 18\n",
    "    elif Summary=='Humid and Partly Cloudy':\n",
    "        return 19\n",
    "    elif Summary=='Dry and Mostly Cloudy':\n",
    "        return 20\n",
    "    elif Summary=='Rain':\n",
    "        return 21\n",
    "    elif Summary=='Windy':\n",
    "        return 22\n",
    "    elif Summary=='Humid and Overcast':\n",
    "        return 23\n",
    "    elif Summary=='Windy and Foggy':\n",
    "        return 24\n",
    "    elif Summary=='Dangerously Windy and Partly Cloudy':\n",
    "        return 25\n",
    "    elif Summary=='Windy and Dry':\n",
    "        return 26\n",
    "    elif Summary=='Breezy and Dry':\n",
    "        return 27\n",
    "    "
   ]
  },
  {
   "cell_type": "code",
   "execution_count": null,
   "metadata": {
    "_uuid": "302cd0cbc75543e4668723d8ff61055b012a9fb7"
   },
   "outputs": [],
   "source": [
    "# assign a numerical value to the categorical field of class, by using the above function\n",
    "data['SummaryCat'] = data['Summary'].apply(change_category)\n"
   ]
  },
  {
   "cell_type": "code",
   "execution_count": null,
   "metadata": {
    "_uuid": "a3fec17cb35afe93ce58db67dc23f8f63ce089f3"
   },
   "outputs": [],
   "source": [
    "plt.figure(figsize=(18,8)) # this creates a figure 8 inch wide, 4 inch high\n",
    "ax = sns.countplot(x=data['SummaryCat'])\n",
    "ax.set_xticklabels(ax.get_xticklabels(), rotation=90, ha=\"right\")\n",
    "plt.tight_layout()\n",
    "plt.show()"
   ]
  },
  {
   "cell_type": "code",
   "execution_count": null,
   "metadata": {
    "_uuid": "a056e351c927fceb282c8e24b5c8e6bf2be4dcc9"
   },
   "outputs": [],
   "source": [
    "def change_category(PrecipTypeCat):\n",
    "    if PrecipTypeCat=='rain':\n",
    "        return 1\n",
    "    elif PrecipTypeCat=='snow':\n",
    "        return 2\n",
    "  "
   ]
  },
  {
   "cell_type": "code",
   "execution_count": null,
   "metadata": {
    "_uuid": "40d94d1db9dccd18f0dd3ef9e37eaac25f787491"
   },
   "outputs": [],
   "source": [
    "# assign a numerical value to the categorical field of class, by using the above function\n",
    "data['PrecipTypeCat'] = data['Precip Type'].apply(change_category)"
   ]
  },
  {
   "cell_type": "code",
   "execution_count": null,
   "metadata": {
    "_uuid": "fc0d6a26dd0116fb6ae361a2a48b6de55c534595"
   },
   "outputs": [],
   "source": [
    "plt.figure(figsize=(18,8)) # this creates a figure 8 inch wide, 4 inch high\n",
    "ax = sns.countplot(x=data['PrecipTypeCat'])\n",
    "ax.set_xticklabels(ax.get_xticklabels(), rotation=90, ha=\"right\")\n",
    "plt.tight_layout()\n",
    "plt.show()"
   ]
  },
  {
   "cell_type": "code",
   "execution_count": null,
   "metadata": {
    "_uuid": "d65b7b0159bb7c74baebe4419d123f28febcf5dd"
   },
   "outputs": [],
   "source": [
    "data.drop(['Formatted Date','Summary','Daily Summary','Precip Type','Date'],axis=1,inplace=True)\n",
    "data.head()"
   ]
  },
  {
   "cell_type": "code",
   "execution_count": null,
   "metadata": {
    "_uuid": "6db278ddf5122fdcd4595c72c35fa67917c413ac"
   },
   "outputs": [],
   "source": [
    "X = data.drop('DailySummaryCat', axis=1)\n",
    "y = data['DailySummaryCat']"
   ]
  },
  {
   "cell_type": "code",
   "execution_count": null,
   "metadata": {
    "_uuid": "9742c3c2466d572b965b1696b98f63427c627d4c"
   },
   "outputs": [],
   "source": [
    "X_train, X_test, y_train, y_test = train_test_split(X, y, test_size=0.3, random_state=128)"
   ]
  },
  {
   "cell_type": "code",
   "execution_count": null,
   "metadata": {
    "_uuid": "d0929729805f35c2a18bbb89afa37fd007beeb84"
   },
   "outputs": [],
   "source": [
    "dtClassifer = DecisionTreeClassifier(max_leaf_nodes=15,random_state=0)"
   ]
  },
  {
   "cell_type": "code",
   "execution_count": null,
   "metadata": {
    "_uuid": "ecbd76319a6b0d78e426c32b1b8d29f303955f61"
   },
   "outputs": [],
   "source": [
    "dtClassifer.fit(X_train, y_train)"
   ]
  },
  {
   "cell_type": "code",
   "execution_count": null,
   "metadata": {
    "_uuid": "f41c7d3753ab1b3bf5bafa4ac1ebc5f2aeadeee6"
   },
   "outputs": [],
   "source": [
    "prediction = dtClassifer.predict(X_test)"
   ]
  },
  {
   "cell_type": "code",
   "execution_count": null,
   "metadata": {
    "_uuid": "b7cfbd8bcf31fa83583e7699d48dd52869b8126d"
   },
   "outputs": [],
   "source": [
    "prediction[:100]"
   ]
  },
  {
   "cell_type": "code",
   "execution_count": null,
   "metadata": {
    "_uuid": "767b7ef83658ac9ebd0ced49c001e56e7bd29180"
   },
   "outputs": [],
   "source": [
    "y_test[:100]"
   ]
  },
  {
   "cell_type": "code",
   "execution_count": null,
   "metadata": {
    "_uuid": "26ced0b46eb757c0b6ddfefb973554136ca5ade6"
   },
   "outputs": [],
   "source": [
    "accuracy_score(y_true=y_test, y_pred=prediction)"
   ]
  },
  {
   "cell_type": "markdown",
   "metadata": {
    "_uuid": "1b5b7e772144be6cfd36dad256c1340687693175"
   },
   "source": [
    "**Logistic Regression**"
   ]
  },
  {
   "cell_type": "code",
   "execution_count": null,
   "metadata": {
    "_uuid": "55eca754dee076f242e73a95632bb39002661712"
   },
   "outputs": [],
   "source": [
    "lrClassifier = LogisticRegression()"
   ]
  },
  {
   "cell_type": "code",
   "execution_count": null,
   "metadata": {
    "_uuid": "72911fb036a07db1627d5f5c6aa7deaa94b6e968"
   },
   "outputs": [],
   "source": [
    "lrClassifier.fit(X_train,y_train)"
   ]
  },
  {
   "cell_type": "code",
   "execution_count": null,
   "metadata": {
    "_uuid": "e95c7051bde801898c835029491efbd3600fde7c"
   },
   "outputs": [],
   "source": [
    "prediction = lrClassifier.predict(X_test)"
   ]
  },
  {
   "cell_type": "code",
   "execution_count": null,
   "metadata": {
    "_uuid": "8038268188ac330b66e8e3f51cf7c5411d6401b5"
   },
   "outputs": [],
   "source": [
    "prediction[:3000]"
   ]
  },
  {
   "cell_type": "code",
   "execution_count": null,
   "metadata": {
    "_uuid": "09255005f2361d7ce4b36f95ed6bc2e0beb768aa"
   },
   "outputs": [],
   "source": [
    "y_test[:100]"
   ]
  },
  {
   "cell_type": "code",
   "execution_count": null,
   "metadata": {
    "_uuid": "bc1c28c45dd793880780f7676f66748102bec38a"
   },
   "outputs": [],
   "source": [
    "accuracy_score(y_true=y_test, y_pred=prediction)"
   ]
  },
  {
   "cell_type": "markdown",
   "metadata": {
    "_uuid": "89c58b5946f58d694af82cadc6ec48c0487b7dc2"
   },
   "source": [
    "**Visualization. Weather calendar**"
   ]
  },
  {
   "cell_type": "code",
   "execution_count": null,
   "metadata": {
    "_uuid": "585621a780c504a3d51778c39ea6073fff849c6f"
   },
   "outputs": [],
   "source": [
    "#Drawing a heatmap\n",
    "def facet_heatmap(data, color, **kws):\n",
    "    values=data.columns.values[3]\n",
    "    data = data.pivot(index='day', columns='hour', values=values)\n",
    "    sns.heatmap(data, cmap='coolwarm', **kws)  \n",
    "\n",
    "#Joining heatmaps of every month in a year \n",
    "def weather_calendar(year,weather): #Year= Any year in DataFrame. Weather=Any quantitative variable\n",
    "    datayear = data[data['year']==year][['month', 'day', 'hour', weather]]\n",
    "    vmin=datayear[weather].min()\n",
    "    vmax=datayear[weather].max()\n",
    "    with sns.plotting_context(font_scale=12):\n",
    "        g = sns.FacetGrid(datayear,col=\"month\", col_wrap=3) #One heatmap per month\n",
    "        g = g.map_dataframe(facet_heatmap,vmin=vmin, vmax=vmax)\n",
    "        g.set_axis_labels('Hour', 'Day')\n",
    "        plt.subplots_adjust(top=0.9)\n",
    "        g.fig.suptitle('%s Calendar. Year: %s.' %(weather, year), fontsize=18)"
   ]
  },
  {
   "cell_type": "code",
   "execution_count": null,
   "metadata": {
    "_uuid": "6293fdb9cb1a2fc955cbeb0c88c3fbdbcf727ad0"
   },
   "outputs": [],
   "source": [
    "weather_calendar(2006,'Temperature (C)')"
   ]
  },
  {
   "cell_type": "code",
   "execution_count": null,
   "metadata": {
    "_uuid": "5641d436d2afe063d0e0bf7b1edabdeca556b81b"
   },
   "outputs": [],
   "source": [
    "weather_calendar(2008,'Humidity')"
   ]
  },
  {
   "cell_type": "markdown",
   "metadata": {
    "_uuid": "292e1f5514931a3a18f4e05f18048a3bec3919e1"
   },
   "source": [
    "**Neural Model for Weather Prediction**"
   ]
  },
  {
   "cell_type": "code",
   "execution_count": null,
   "metadata": {
    "_uuid": "9d290fbde8feeb5deed13c8e505c267ac788f478"
   },
   "outputs": [],
   "source": [
    "data_neur=data\n"
   ]
  },
  {
   "cell_type": "code",
   "execution_count": null,
   "metadata": {
    "_uuid": "fbbe6c1d49b3bf78753f7cbef3da420b4859b390"
   },
   "outputs": [],
   "source": [
    "data_neur['T'] = data['Temperature (C)']\n",
    "data_neur['TA'] = data['Apparent Temperature (C)']\n",
    "data_neur['H'] = data['Humidity']\n",
    "data_neur['WS'] = data['Wind Speed (km/h)']\n",
    "data_neur['WB'] = data['Wind Bearing (degrees)']\n",
    "data_neur['V'] = data['Visibility (km)']\n",
    "data_neur['P'] = data['Pressure (millibars)']\n",
    "data_neur['Y'] = data['year']\n",
    "data_neur['M'] = data['month']\n",
    "data_neur['D'] = data['day']\n",
    "data_neur['HR'] = data['hour']\n",
    "data_neur['SC'] = data['SummaryCat']\n",
    "data_neur['PT'] = data['PrecipTypeCat']\n",
    "data.drop(['hour','day','month','year','Pressure (millibars)','Temperature (C)','Apparent Temperature (C)','Humidity','Wind Speed (km/h)','Wind Bearing (degrees)','Visibility (km)','SummaryCat','PrecipTypeCat'],axis=1,inplace=True)\n",
    "data_neur.head()"
   ]
  },
  {
   "cell_type": "code",
   "execution_count": null,
   "metadata": {
    "_uuid": "efddf32ccd953439e895c714e64555cf50aca13d"
   },
   "outputs": [],
   "source": [
    "# X will be a pandas dataframe of all columns except meantempm\n",
    "X = data_neur[[col for col in data_neur.columns if col != 'DailySummaryCat']]\n",
    "\n",
    "# y will be a pandas series of the meantempm\n",
    "y = data_neur['DailySummaryCat']"
   ]
  },
  {
   "cell_type": "code",
   "execution_count": null,
   "metadata": {
    "_uuid": "19fc8a9bd4b69e3f999edd73b6b8b49e18eb7e86"
   },
   "outputs": [],
   "source": [
    "# split data into training set and a temporary set using sklearn.model_selection.traing_test_split\n",
    "X_train, X_tmp, y_train, y_tmp = train_test_split(X, y, test_size=0.2, random_state=23)"
   ]
  },
  {
   "cell_type": "code",
   "execution_count": null,
   "metadata": {
    "_uuid": "3ddd5821a88a02db9690f878787a25dde64befea"
   },
   "outputs": [],
   "source": [
    "# take the remaining 20% of data in X_tmp, y_tmp and split them evenly\n",
    "X_test, X_val, y_test, y_val = train_test_split(X_tmp, y_tmp, test_size=0.5, random_state=23)\n",
    "\n",
    "X_train.shape, X_test.shape, X_val.shape\n",
    "print(\"Training instances   {}, Training features   {}\".format(X_train.shape[0], X_train.shape[1]))\n",
    "print(\"Validation instances {}, Validation features {}\".format(X_val.shape[0], X_val.shape[1]))\n",
    "print(\"Testing instances    {}, Testing features    {}\".format(X_test.shape[0], X_test.shape[1]))"
   ]
  },
  {
   "cell_type": "code",
   "execution_count": null,
   "metadata": {
    "_uuid": "29f519cf233eb87183720ebcc40f4cc64efadc08"
   },
   "outputs": [],
   "source": [
    "feature_cols = [tf.feature_column.numeric_column(col) for col in X.columns]"
   ]
  },
  {
   "cell_type": "code",
   "execution_count": null,
   "metadata": {
    "_uuid": "98cedb17447a7cb89778b6067c0b94edd592a418"
   },
   "outputs": [],
   "source": [
    "tf.VERSION #to check it has the latest version over 1.21 if not then install with conda update -f -c conda-forge tensorflow"
   ]
  },
  {
   "cell_type": "code",
   "execution_count": null,
   "metadata": {
    "_uuid": "6f52514e44b6c14c06a55cdcacb4d607da777386"
   },
   "outputs": [],
   "source": [
    "regressor = tf.estimator.DNNRegressor(feature_columns=feature_cols,\n",
    "                                      hidden_units=[50, 50],\n",
    "                                      model_dir='tf_wx_model')"
   ]
  },
  {
   "cell_type": "code",
   "execution_count": null,
   "metadata": {
    "_uuid": "f68a66d3b752766a1f89a8e9036dbf37a42e2693"
   },
   "outputs": [],
   "source": [
    "def wx_input_fn(X, y=None, num_epochs=None, shuffle=True, batch_size=260): # 260 is used as we have approx 570 dataset for training\n",
    "    return tf.estimator.inputs.pandas_input_fn(x=X,\n",
    "                                               y=y,\n",
    "                                               num_epochs=num_epochs,\n",
    "                                               shuffle=shuffle,\n",
    "                                               batch_size=batch_size)"
   ]
  },
  {
   "cell_type": "code",
   "execution_count": null,
   "metadata": {
    "_uuid": "43535321e2cbcc73554a8ccd63be50a2c0f5375a"
   },
   "outputs": [],
   "source": [
    "evaluations = []\n",
    "STEPS = 260\n",
    "for i in range(100):\n",
    "    regressor.train(input_fn=wx_input_fn(X_train, y=y_train), steps=STEPS)\n",
    "    evaluation = regressor.evaluate(input_fn=wx_input_fn(X_val, y_val,\n",
    "                                                         num_epochs=1,\n",
    "                                                         shuffle=False),\n",
    "                                    steps=1)\n",
    "    evaluations.append(regressor.evaluate(input_fn=wx_input_fn(X_val,\n",
    "                                                               y_val,\n",
    "                                                               num_epochs=1,\n",
    "                                                               shuffle=False)))"
   ]
  },
  {
   "cell_type": "code",
   "execution_count": null,
   "metadata": {
    "_uuid": "047fc4e7fb944a9ae607c2fa298d9334c9861cf7"
   },
   "outputs": [],
   "source": [
    "evaluations[0]"
   ]
  },
  {
   "cell_type": "code",
   "execution_count": null,
   "metadata": {
    "_uuid": "3dca7c2efcb55275b9c3caa52da9841bee212fe9"
   },
   "outputs": [],
   "source": [
    "# manually set the parameters of the figure to and appropriate size\n",
    "plt.rcParams['figure.figsize'] = [14, 10]\n",
    "\n",
    "loss_values = [ev['loss'] for ev in evaluations]\n",
    "training_steps = [ev['global_step'] for ev in evaluations]\n",
    "\n",
    "plt.scatter(x=training_steps, y=loss_values)\n",
    "plt.xlabel('Training steps (Epochs = steps / 2)')\n",
    "plt.ylabel('Loss (SSE)')\n",
    "plt.show()"
   ]
  }
 ],
 "metadata": {
  "kernelspec": {
   "display_name": "Python 3",
   "language": "python",
   "name": "python3"
  },
  "language_info": {
   "codemirror_mode": {
    "name": "ipython",
    "version": 3
   },
   "file_extension": ".py",
   "mimetype": "text/x-python",
   "name": "python",
   "nbconvert_exporter": "python",
   "pygments_lexer": "ipython3",
   "version": "3.8.3"
  }
 },
 "nbformat": 4,
 "nbformat_minor": 1
}
